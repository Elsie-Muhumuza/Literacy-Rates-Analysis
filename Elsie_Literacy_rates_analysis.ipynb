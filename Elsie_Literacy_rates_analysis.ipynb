{
  "nbformat": 4,
  "nbformat_minor": 0,
  "metadata": {
    "colab": {
      "provenance": [],
      "collapsed_sections": [
        "Sev5bSySHc1u"
      ]
    },
    "kernelspec": {
      "name": "python3",
      "display_name": "Python 3"
    },
    "language_info": {
      "name": "python"
    }
  },
  "cells": [
    {
      "cell_type": "markdown",
      "source": [
        "# Data Loading"
      ],
      "metadata": {
        "id": "aRgAuaKdMTHU"
      }
    },
    {
      "cell_type": "code",
      "source": [
        "#mounting google drive\n",
        "from google.colab import drive\n",
        "drive.mount('/content/drive')"
      ],
      "metadata": {
        "colab": {
          "base_uri": "https://localhost:8080/"
        },
        "id": "Vs_fFf58M0s9",
        "outputId": "763f5a48-5e22-4d53-b096-a38fe19aa3dd"
      },
      "execution_count": 3,
      "outputs": [
        {
          "output_type": "stream",
          "name": "stdout",
          "text": [
            "Mounted at /content/drive\n"
          ]
        }
      ]
    },
    {
      "cell_type": "markdown",
      "source": [
        "Import Libraries"
      ],
      "metadata": {
        "id": "KWbcSmySYLth"
      }
    },
    {
      "cell_type": "code",
      "source": [
        "# import all necessary libraries\n",
        "import pandas as pd\n",
        "import numpy as np\n",
        "import seaborn as sns\n",
        "import matplotlib.pyplot as plt\n"
      ],
      "metadata": {
        "id": "lKwNaMFEYSlf"
      },
      "execution_count": 4,
      "outputs": []
    },
    {
      "cell_type": "markdown",
      "source": [
        "Load data set as excel file"
      ],
      "metadata": {
        "id": "EercOEKXYpwP"
      }
    },
    {
      "cell_type": "code",
      "source": [
        "file_path='/content/drive/MyDrive/Refactory Work/literacy_rates_updated.xlsx'\n",
        "df=pd.read_excel(file_path)\n",
        "df.head() #diplsay the first few rows to see what the data looks like"
      ],
      "metadata": {
        "colab": {
          "base_uri": "https://localhost:8080/",
          "height": 206
        },
        "id": "hwXb9LfDYuCP",
        "outputId": "75a2d3f8-2b03-4436-d3bf-9501fada269f"
      },
      "execution_count": 8,
      "outputs": [
        {
          "output_type": "execute_result",
          "data": {
            "text/plain": [
              "                      Region      Country  Year    Age  Gender  Literacy rate\n",
              "0  Central and Southern Asia  Afghanistan  2011    <15  female       0.176121\n",
              "1  Central and Southern Asia  Afghanistan  2011    <15    male       0.454171\n",
              "2                        NaN  Afghanistan  2011  15-24  female       0.321132\n",
              "3                        NaN  Afghanistan  2011  15-24    male       0.618791\n",
              "4  Central and Southern Asia  Afghanistan  2011  25-64  female       0.084128"
            ],
            "text/html": [
              "\n",
              "  <div id=\"df-9bab4eda-80b9-4600-80af-ef7beb988a15\" class=\"colab-df-container\">\n",
              "    <div>\n",
              "<style scoped>\n",
              "    .dataframe tbody tr th:only-of-type {\n",
              "        vertical-align: middle;\n",
              "    }\n",
              "\n",
              "    .dataframe tbody tr th {\n",
              "        vertical-align: top;\n",
              "    }\n",
              "\n",
              "    .dataframe thead th {\n",
              "        text-align: right;\n",
              "    }\n",
              "</style>\n",
              "<table border=\"1\" class=\"dataframe\">\n",
              "  <thead>\n",
              "    <tr style=\"text-align: right;\">\n",
              "      <th></th>\n",
              "      <th>Region</th>\n",
              "      <th>Country</th>\n",
              "      <th>Year</th>\n",
              "      <th>Age</th>\n",
              "      <th>Gender</th>\n",
              "      <th>Literacy rate</th>\n",
              "    </tr>\n",
              "  </thead>\n",
              "  <tbody>\n",
              "    <tr>\n",
              "      <th>0</th>\n",
              "      <td>Central and Southern Asia</td>\n",
              "      <td>Afghanistan</td>\n",
              "      <td>2011</td>\n",
              "      <td>&lt;15</td>\n",
              "      <td>female</td>\n",
              "      <td>0.176121</td>\n",
              "    </tr>\n",
              "    <tr>\n",
              "      <th>1</th>\n",
              "      <td>Central and Southern Asia</td>\n",
              "      <td>Afghanistan</td>\n",
              "      <td>2011</td>\n",
              "      <td>&lt;15</td>\n",
              "      <td>male</td>\n",
              "      <td>0.454171</td>\n",
              "    </tr>\n",
              "    <tr>\n",
              "      <th>2</th>\n",
              "      <td>NaN</td>\n",
              "      <td>Afghanistan</td>\n",
              "      <td>2011</td>\n",
              "      <td>15-24</td>\n",
              "      <td>female</td>\n",
              "      <td>0.321132</td>\n",
              "    </tr>\n",
              "    <tr>\n",
              "      <th>3</th>\n",
              "      <td>NaN</td>\n",
              "      <td>Afghanistan</td>\n",
              "      <td>2011</td>\n",
              "      <td>15-24</td>\n",
              "      <td>male</td>\n",
              "      <td>0.618791</td>\n",
              "    </tr>\n",
              "    <tr>\n",
              "      <th>4</th>\n",
              "      <td>Central and Southern Asia</td>\n",
              "      <td>Afghanistan</td>\n",
              "      <td>2011</td>\n",
              "      <td>25-64</td>\n",
              "      <td>female</td>\n",
              "      <td>0.084128</td>\n",
              "    </tr>\n",
              "  </tbody>\n",
              "</table>\n",
              "</div>\n",
              "    <div class=\"colab-df-buttons\">\n",
              "\n",
              "  <div class=\"colab-df-container\">\n",
              "    <button class=\"colab-df-convert\" onclick=\"convertToInteractive('df-9bab4eda-80b9-4600-80af-ef7beb988a15')\"\n",
              "            title=\"Convert this dataframe to an interactive table.\"\n",
              "            style=\"display:none;\">\n",
              "\n",
              "  <svg xmlns=\"http://www.w3.org/2000/svg\" height=\"24px\" viewBox=\"0 -960 960 960\">\n",
              "    <path d=\"M120-120v-720h720v720H120Zm60-500h600v-160H180v160Zm220 220h160v-160H400v160Zm0 220h160v-160H400v160ZM180-400h160v-160H180v160Zm440 0h160v-160H620v160ZM180-180h160v-160H180v160Zm440 0h160v-160H620v160Z\"/>\n",
              "  </svg>\n",
              "    </button>\n",
              "\n",
              "  <style>\n",
              "    .colab-df-container {\n",
              "      display:flex;\n",
              "      gap: 12px;\n",
              "    }\n",
              "\n",
              "    .colab-df-convert {\n",
              "      background-color: #E8F0FE;\n",
              "      border: none;\n",
              "      border-radius: 50%;\n",
              "      cursor: pointer;\n",
              "      display: none;\n",
              "      fill: #1967D2;\n",
              "      height: 32px;\n",
              "      padding: 0 0 0 0;\n",
              "      width: 32px;\n",
              "    }\n",
              "\n",
              "    .colab-df-convert:hover {\n",
              "      background-color: #E2EBFA;\n",
              "      box-shadow: 0px 1px 2px rgba(60, 64, 67, 0.3), 0px 1px 3px 1px rgba(60, 64, 67, 0.15);\n",
              "      fill: #174EA6;\n",
              "    }\n",
              "\n",
              "    .colab-df-buttons div {\n",
              "      margin-bottom: 4px;\n",
              "    }\n",
              "\n",
              "    [theme=dark] .colab-df-convert {\n",
              "      background-color: #3B4455;\n",
              "      fill: #D2E3FC;\n",
              "    }\n",
              "\n",
              "    [theme=dark] .colab-df-convert:hover {\n",
              "      background-color: #434B5C;\n",
              "      box-shadow: 0px 1px 3px 1px rgba(0, 0, 0, 0.15);\n",
              "      filter: drop-shadow(0px 1px 2px rgba(0, 0, 0, 0.3));\n",
              "      fill: #FFFFFF;\n",
              "    }\n",
              "  </style>\n",
              "\n",
              "    <script>\n",
              "      const buttonEl =\n",
              "        document.querySelector('#df-9bab4eda-80b9-4600-80af-ef7beb988a15 button.colab-df-convert');\n",
              "      buttonEl.style.display =\n",
              "        google.colab.kernel.accessAllowed ? 'block' : 'none';\n",
              "\n",
              "      async function convertToInteractive(key) {\n",
              "        const element = document.querySelector('#df-9bab4eda-80b9-4600-80af-ef7beb988a15');\n",
              "        const dataTable =\n",
              "          await google.colab.kernel.invokeFunction('convertToInteractive',\n",
              "                                                    [key], {});\n",
              "        if (!dataTable) return;\n",
              "\n",
              "        const docLinkHtml = 'Like what you see? Visit the ' +\n",
              "          '<a target=\"_blank\" href=https://colab.research.google.com/notebooks/data_table.ipynb>data table notebook</a>'\n",
              "          + ' to learn more about interactive tables.';\n",
              "        element.innerHTML = '';\n",
              "        dataTable['output_type'] = 'display_data';\n",
              "        await google.colab.output.renderOutput(dataTable, element);\n",
              "        const docLink = document.createElement('div');\n",
              "        docLink.innerHTML = docLinkHtml;\n",
              "        element.appendChild(docLink);\n",
              "      }\n",
              "    </script>\n",
              "  </div>\n",
              "\n",
              "\n",
              "    <div id=\"df-d0140321-1883-4740-a7ff-f303d203ea0f\">\n",
              "      <button class=\"colab-df-quickchart\" onclick=\"quickchart('df-d0140321-1883-4740-a7ff-f303d203ea0f')\"\n",
              "                title=\"Suggest charts\"\n",
              "                style=\"display:none;\">\n",
              "\n",
              "<svg xmlns=\"http://www.w3.org/2000/svg\" height=\"24px\"viewBox=\"0 0 24 24\"\n",
              "     width=\"24px\">\n",
              "    <g>\n",
              "        <path d=\"M19 3H5c-1.1 0-2 .9-2 2v14c0 1.1.9 2 2 2h14c1.1 0 2-.9 2-2V5c0-1.1-.9-2-2-2zM9 17H7v-7h2v7zm4 0h-2V7h2v10zm4 0h-2v-4h2v4z\"/>\n",
              "    </g>\n",
              "</svg>\n",
              "      </button>\n",
              "\n",
              "<style>\n",
              "  .colab-df-quickchart {\n",
              "      --bg-color: #E8F0FE;\n",
              "      --fill-color: #1967D2;\n",
              "      --hover-bg-color: #E2EBFA;\n",
              "      --hover-fill-color: #174EA6;\n",
              "      --disabled-fill-color: #AAA;\n",
              "      --disabled-bg-color: #DDD;\n",
              "  }\n",
              "\n",
              "  [theme=dark] .colab-df-quickchart {\n",
              "      --bg-color: #3B4455;\n",
              "      --fill-color: #D2E3FC;\n",
              "      --hover-bg-color: #434B5C;\n",
              "      --hover-fill-color: #FFFFFF;\n",
              "      --disabled-bg-color: #3B4455;\n",
              "      --disabled-fill-color: #666;\n",
              "  }\n",
              "\n",
              "  .colab-df-quickchart {\n",
              "    background-color: var(--bg-color);\n",
              "    border: none;\n",
              "    border-radius: 50%;\n",
              "    cursor: pointer;\n",
              "    display: none;\n",
              "    fill: var(--fill-color);\n",
              "    height: 32px;\n",
              "    padding: 0;\n",
              "    width: 32px;\n",
              "  }\n",
              "\n",
              "  .colab-df-quickchart:hover {\n",
              "    background-color: var(--hover-bg-color);\n",
              "    box-shadow: 0 1px 2px rgba(60, 64, 67, 0.3), 0 1px 3px 1px rgba(60, 64, 67, 0.15);\n",
              "    fill: var(--button-hover-fill-color);\n",
              "  }\n",
              "\n",
              "  .colab-df-quickchart-complete:disabled,\n",
              "  .colab-df-quickchart-complete:disabled:hover {\n",
              "    background-color: var(--disabled-bg-color);\n",
              "    fill: var(--disabled-fill-color);\n",
              "    box-shadow: none;\n",
              "  }\n",
              "\n",
              "  .colab-df-spinner {\n",
              "    border: 2px solid var(--fill-color);\n",
              "    border-color: transparent;\n",
              "    border-bottom-color: var(--fill-color);\n",
              "    animation:\n",
              "      spin 1s steps(1) infinite;\n",
              "  }\n",
              "\n",
              "  @keyframes spin {\n",
              "    0% {\n",
              "      border-color: transparent;\n",
              "      border-bottom-color: var(--fill-color);\n",
              "      border-left-color: var(--fill-color);\n",
              "    }\n",
              "    20% {\n",
              "      border-color: transparent;\n",
              "      border-left-color: var(--fill-color);\n",
              "      border-top-color: var(--fill-color);\n",
              "    }\n",
              "    30% {\n",
              "      border-color: transparent;\n",
              "      border-left-color: var(--fill-color);\n",
              "      border-top-color: var(--fill-color);\n",
              "      border-right-color: var(--fill-color);\n",
              "    }\n",
              "    40% {\n",
              "      border-color: transparent;\n",
              "      border-right-color: var(--fill-color);\n",
              "      border-top-color: var(--fill-color);\n",
              "    }\n",
              "    60% {\n",
              "      border-color: transparent;\n",
              "      border-right-color: var(--fill-color);\n",
              "    }\n",
              "    80% {\n",
              "      border-color: transparent;\n",
              "      border-right-color: var(--fill-color);\n",
              "      border-bottom-color: var(--fill-color);\n",
              "    }\n",
              "    90% {\n",
              "      border-color: transparent;\n",
              "      border-bottom-color: var(--fill-color);\n",
              "    }\n",
              "  }\n",
              "</style>\n",
              "\n",
              "      <script>\n",
              "        async function quickchart(key) {\n",
              "          const quickchartButtonEl =\n",
              "            document.querySelector('#' + key + ' button');\n",
              "          quickchartButtonEl.disabled = true;  // To prevent multiple clicks.\n",
              "          quickchartButtonEl.classList.add('colab-df-spinner');\n",
              "          try {\n",
              "            const charts = await google.colab.kernel.invokeFunction(\n",
              "                'suggestCharts', [key], {});\n",
              "          } catch (error) {\n",
              "            console.error('Error during call to suggestCharts:', error);\n",
              "          }\n",
              "          quickchartButtonEl.classList.remove('colab-df-spinner');\n",
              "          quickchartButtonEl.classList.add('colab-df-quickchart-complete');\n",
              "        }\n",
              "        (() => {\n",
              "          let quickchartButtonEl =\n",
              "            document.querySelector('#df-d0140321-1883-4740-a7ff-f303d203ea0f button');\n",
              "          quickchartButtonEl.style.display =\n",
              "            google.colab.kernel.accessAllowed ? 'block' : 'none';\n",
              "        })();\n",
              "      </script>\n",
              "    </div>\n",
              "\n",
              "    </div>\n",
              "  </div>\n"
            ],
            "application/vnd.google.colaboratory.intrinsic+json": {
              "type": "dataframe",
              "variable_name": "df",
              "summary": "{\n  \"name\": \"df\",\n  \"rows\": 3313,\n  \"fields\": [\n    {\n      \"column\": \"Region\",\n      \"properties\": {\n        \"dtype\": \"category\",\n        \"num_unique_values\": 7,\n        \"samples\": [\n          \"Central and Southern Asia\",\n          \"Eastern and South-Eastern Asia\",\n          \"Oceania\"\n        ],\n        \"semantic_type\": \"\",\n        \"description\": \"\"\n      }\n    },\n    {\n      \"column\": \"Country\",\n      \"properties\": {\n        \"dtype\": \"category\",\n        \"num_unique_values\": 155,\n        \"samples\": [\n          \"Venezuela (Bolivarian Republic of)\",\n          \"Rwanda\",\n          \"Bulgaria\"\n        ],\n        \"semantic_type\": \"\",\n        \"description\": \"\"\n      }\n    },\n    {\n      \"column\": \"Year\",\n      \"properties\": {\n        \"dtype\": \"category\",\n        \"num_unique_values\": 11,\n        \"samples\": [\n          2015,\n          2011,\n          \"2011_\"\n        ],\n        \"semantic_type\": \"\",\n        \"description\": \"\"\n      }\n    },\n    {\n      \"column\": \"Age\",\n      \"properties\": {\n        \"dtype\": \"category\",\n        \"num_unique_values\": 4,\n        \"samples\": [\n          \"15-24\",\n          \"65+\",\n          \"<15\"\n        ],\n        \"semantic_type\": \"\",\n        \"description\": \"\"\n      }\n    },\n    {\n      \"column\": \"Gender\",\n      \"properties\": {\n        \"dtype\": \"category\",\n        \"num_unique_values\": 4,\n        \"samples\": [\n          \"male\",\n          \"M\",\n          \"female\"\n        ],\n        \"semantic_type\": \"\",\n        \"description\": \"\"\n      }\n    },\n    {\n      \"column\": \"Literacy rate\",\n      \"properties\": {\n        \"dtype\": \"number\",\n        \"std\": 0.23512391846436648,\n        \"min\": 0.004025,\n        \"max\": 1.0,\n        \"num_unique_values\": 3236,\n        \"samples\": [\n          0.9903918,\n          0.984890099999999,\n          0.8739595\n        ],\n        \"semantic_type\": \"\",\n        \"description\": \"\"\n      }\n    }\n  ]\n}"
            }
          },
          "metadata": {},
          "execution_count": 8
        }
      ]
    },
    {
      "cell_type": "markdown",
      "source": [
        "#Data Inspection"
      ],
      "metadata": {
        "id": "tzM3kQTifneO"
      }
    },
    {
      "cell_type": "code",
      "source": [
        "df.info() #show how many rows, columns and each column's data type"
      ],
      "metadata": {
        "colab": {
          "base_uri": "https://localhost:8080/"
        },
        "id": "4vJxsJLWc2pP",
        "outputId": "ab1b4074-cdab-482a-a3ab-8048aff61a16"
      },
      "execution_count": 9,
      "outputs": [
        {
          "output_type": "stream",
          "name": "stdout",
          "text": [
            "<class 'pandas.core.frame.DataFrame'>\n",
            "RangeIndex: 3313 entries, 0 to 3312\n",
            "Data columns (total 6 columns):\n",
            " #   Column         Non-Null Count  Dtype  \n",
            "---  ------         --------------  -----  \n",
            " 0   Region         3309 non-null   object \n",
            " 1   Country        3313 non-null   object \n",
            " 2   Year           3313 non-null   object \n",
            " 3   Age            3313 non-null   object \n",
            " 4   Gender         3313 non-null   object \n",
            " 5   Literacy rate  3308 non-null   float64\n",
            "dtypes: float64(1), object(5)\n",
            "memory usage: 155.4+ KB\n"
          ]
        }
      ]
    },
    {
      "cell_type": "code",
      "source": [
        "# Check unique Column names to see if there are inconsistencies like mispellings, case variations, extra characters, inconsistencies in naming and others.\n",
        "print(\"\\n Unique Regions: \\n\", df[\"Region\"].unique())\n",
        "\n",
        "print(\"\\n Unique Countries: \\n\", df[\"Country\"].unique())\n",
        "\n",
        "print(\"\\n Unique Ages: \\n\", df[\"Age\"].unique())\n",
        "\n",
        "print(\"\\n Unique Genders: \\n\", df[\"Gender\"].unique())"
      ],
      "metadata": {
        "colab": {
          "base_uri": "https://localhost:8080/"
        },
        "id": "8JJYSI-QrpmH",
        "outputId": "25007340-d22b-4258-f898-821bcf966e60"
      },
      "execution_count": 11,
      "outputs": [
        {
          "output_type": "stream",
          "name": "stdout",
          "text": [
            "\n",
            " Unique Regions:\n",
            " ['Central and Southern Asia' nan 'Eastern and South-Eastern Asia'\n",
            " 'Europe and Northern America' 'Latin America and the Caribbean'\n",
            " 'Northern Africa and Western Asia' 'Oceania' 'Sub-Saharan Africa']\n",
            "\n",
            " Unique Countries:\n",
            " ['Afghanistan' 'Bangladesh' 'Bhutan' 'India' 'Iran (Islamic Republic of)'\n",
            " 'Kazakhstan' 'Kyrgyzstan' 'Maldives' 'Nepal' 'Pakistan' 'Sri Lanka'\n",
            " 'Tajikistan' 'Turkmenistan' 'Uzbekistan' 'Brunei Darussalam' 'Cambodia'\n",
            " 'China' 'China, Macao Special Administrative Region' 'Indonesia'\n",
            " \"Lao People's Democratic Republic\" 'Malaysia' 'Mongolia' 'Myanmar'\n",
            " 'Philippines' 'Singapore' 'Thailand' 'Timor-Leste' 'Viet Nam' 'Albania'\n",
            " 'Belarus' 'Bosnia and Herzegovina' 'Bulgaria' 'Croatia' 'Estonia'\n",
            " 'Greece' 'Hungary' 'Italy' 'Latvia' 'Lithuania' 'Malta' 'Montenegro'\n",
            " 'Portugal' 'Republic of Moldova' 'Romania' 'Russian Federation'\n",
            " 'San Marino' 'Serbia' 'Slovenia' 'Spain'\n",
            " 'The former Yugoslav Republic of Macedonia' 'Ukraine'\n",
            " 'Antigua and Barbuda' 'Argentina' 'Aruba' 'Barbados'\n",
            " 'Bolivia (Plurinational State of)' 'Brazil' 'Chile' 'Colombia'\n",
            " 'Costa Rica' 'Cuba' 'Dominican Republic' 'Ecuador' 'El Salvador'\n",
            " 'Grenada' 'Guadeloupe' 'Guatemala' 'Guyana' 'Haiti' 'Honduras' 'Jamaica'\n",
            " 'Martinique' 'Mexico' 'Nicaragua' 'Panama' 'Paraguay' 'Peru'\n",
            " 'Puerto Rico' 'Suriname' 'Trinidad and Tobago' 'Uruguay'\n",
            " 'Venezuela (Bolivarian Republic of)' 'Algeria' 'Armenia' 'Azerbaijan'\n",
            " 'Bahrain' 'Cyprus' 'Egypt' 'Georgia' 'Iraq' 'Jordan' 'Kuwait' 'Lebanon'\n",
            " 'Morocco' 'Oman' 'Palestine' 'Qatar' 'Saudi Arabia' 'Sudan' 'Tunisia'\n",
            " 'Turkey' 'Fiji' 'Marshall Islands' 'New Caledonia\\xa0' 'Palau'\n",
            " 'Papua New Guinea' 'Samoa' 'Tonga' 'Vanuatu' 'Angola' 'Benin' 'Botswana'\n",
            " 'Burkina Faso' 'Burundi' 'Cabo Verde' 'Cameroon'\n",
            " 'Central African Republic' 'Chad' 'Comoros' 'Congo' \"Côte d'Ivoire\"\n",
            " 'Democratic Republic of the Congo' 'Equatorial Guinea' 'Eritrea'\n",
            " 'Ethiopia' 'Gabon' 'Gambia' 'Ghana' 'Guinea' 'Guinea-Bissau' 'Kenya'\n",
            " 'Lesotho' 'Liberia' 'Madagascar' 'Malawi' 'Mali' 'Mauritania' 'Mauritius'\n",
            " 'Mozambique' 'Namibia' 'Niger' 'Nigeria' 'Rwanda' 'Sao Tome and Principe'\n",
            " 'Senegal' 'Seychelles' 'Sierra Leone' 'South Africa' 'South Sudan'\n",
            " 'Swaziland' 'Togo' 'Uganda' 'United Republic of Tanzania' 'Zambia'\n",
            " 'Zimbabwe']\n",
            "\n",
            " Unique Ages:\n",
            " ['<15' '15-24' '25-64' '65+']\n",
            "\n",
            " Unique Genders:\n",
            " ['female' 'male' 'F' 'M']\n"
          ]
        }
      ]
    },
    {
      "cell_type": "markdown",
      "source": [
        "# Data Cleaning"
      ],
      "metadata": {
        "id": "hhEBFemMensq"
      }
    },
    {
      "cell_type": "markdown",
      "source": [
        "\n",
        "**Addressing inconsistencies**"
      ],
      "metadata": {
        "id": "mvnuw7p712B2"
      }
    },
    {
      "cell_type": "code",
      "source": [
        "string_cols_to_strip=['Region','Country', 'Age', 'Gender'] #columns to strip\n",
        "for col in string_cols_to_strip:\n",
        "  if df[col].dtype == 'object': #ensuring only string columns are captured to avoid errors on non-string columns\n",
        "    df[col]=df[col].str.strip()\n",
        "\n",
        "#Gender\n",
        "#lowercasing all Gender values to make them consistent.\n",
        "df[\"Gender\"] = df[\"Gender\"].str.lower()\n",
        "\n",
        "# Replacing any known short forms with the proper full word.\n",
        "df[\"Gender\"] = df[\"Gender\"].replace({\"m\": \"male\", \"f\": \"female\"})\n",
        "\n",
        "# Checking Gender values again to confirm they look good.\n",
        "print(df[\"Gender\"].unique())\n"
      ],
      "metadata": {
        "colab": {
          "base_uri": "https://localhost:8080/"
        },
        "id": "E3QSCEGA11JI",
        "outputId": "62f2a7fc-dc97-454b-8e32-77dae95db1b2"
      },
      "execution_count": 19,
      "outputs": [
        {
          "output_type": "stream",
          "name": "stdout",
          "text": [
            "['female' 'male']\n"
          ]
        }
      ]
    },
    {
      "cell_type": "markdown",
      "source": [
        "**Addressing Duplicate Rows**"
      ],
      "metadata": {
        "id": "YR6BecaQ9PFv"
      }
    },
    {
      "cell_type": "code",
      "source": [
        "# Finding total number of duplicate rows\n",
        "print(\"Number of duplicate rows:\", df.duplicated().sum())\n",
        "\n",
        "# Removing any duplicate rows found.\n",
        "df = df.drop_duplicates()\n",
        "\n",
        "# Checking again to make sure duplicates are gone.\n",
        "print(\"Number of duplicate rows after dropping:\", df.duplicated().sum())\n"
      ],
      "metadata": {
        "colab": {
          "base_uri": "https://localhost:8080/"
        },
        "id": "v-suh_ST9QWm",
        "outputId": "f24ecc3f-1772-40c4-edf4-0009809c212d"
      },
      "execution_count": 20,
      "outputs": [
        {
          "output_type": "stream",
          "name": "stdout",
          "text": [
            "Number of duplicate rows: 10\n",
            "Number of duplicate rows after dropping: 0\n"
          ]
        }
      ]
    },
    {
      "cell_type": "markdown",
      "source": [
        "**Correcting Data types**"
      ],
      "metadata": {
        "id": "gIeGMDnZ_hkJ"
      }
    },
    {
      "cell_type": "code",
      "source": [
        "\n",
        "# If there's a bad value (like text), convert it to NaN, then to nullable Int64.\n",
        "df[\"Year\"] = pd.to_numeric(df[\"Year\"], errors=\"coerce\").astype(\"Int64\")\n",
        "\n",
        "# Make sure Literacy rate has no percent signs, then convert to float.\n",
        "df[\"Literacy rate\"] = df[\"Literacy rate\"].astype(str).str.replace(\"%\", \"\")\n",
        "\n",
        "# Convert to numeric; bad values become NaN.\n",
        "df[\"Literacy rate\"] = pd.to_numeric(df[\"Literacy rate\"], errors=\"coerce\")\n",
        "\n",
        "# If any Literacy rate is bigger than 1, assume it's a percent written wrong, so divide by 100.\n",
        "df.loc[df[\"Literacy rate\"] > 1, \"Literacy rate\"] /= 100\n"
      ],
      "metadata": {
        "id": "Kpewzltr_u3u"
      },
      "execution_count": 23,
      "outputs": []
    },
    {
      "cell_type": "markdown",
      "source": [
        "**Addressing identified missing values with suitable placeholders.**\n",
        "\n",
        "The identified columns with missing values are the Region and Literacy Rate columns.\n",
        "\n",
        "Missing Region names were filled using other available country data, or 'Unknown' if no country data was found. Missing Literacy rates were then realistically filled using the median rate for each specific region.\n",
        "The year column was also sorted to make the filling logical in time order, so the Region is pulled from the closest valid record."
      ],
      "metadata": {
        "id": "Sev5bSySHc1u"
      }
    },
    {
      "cell_type": "code",
      "source": [
        "# Sorting by Country and Year so that related rows are together and .ffill() and .bfill() work correctly.\n",
        "df = df.sort_values([\"Country\", \"Year\"])\n",
        "\n",
        "#Grouping by Country. fills region downward & upward within each country\n",
        "df[\"Region\"] = df.groupby(\"Country\")[\"Region\"].ffill()\n",
        "df[\"Region\"] = df.groupby(\"Country\")[\"Region\"].bfill()\n",
        "\n",
        "#Filling any still missing region with 'Unknown'\n",
        "df[\"Region\"] = df[\"Region\"].fillna(\"Unknown\")\n",
        "\n",
        "# Filling missing Literacy rate with regional median\n",
        "regional_median = df.groupby(\"Region\")[\"Literacy rate\"].transform(\"median\") #creating a temporary series of regional_median\n",
        "df[\"Literacy rate\"] = df[\"Literacy rate\"].fillna(regional_median)\n",
        "\n",
        "# If any Literacy rate still missing, use global median\n",
        "global_median = df[\"Literacy rate\"].median(skipna=True) #median across the whole column\n",
        "df[\"Literacy rate\"] = df[\"Literacy rate\"].fillna(global_median)\n",
        "\n",
        "#Checking how many missing values still exist in just the Region and Literacy rate columns\n",
        "print(df[[\"Region\", \"Literacy rate\"]].isnull().sum())\n",
        "\n"
      ],
      "metadata": {
        "colab": {
          "base_uri": "https://localhost:8080/"
        },
        "id": "E05BwZPJ_tDH",
        "outputId": "ad63eb34-3ed4-4a94-ab88-132ad5a0ca1b"
      },
      "execution_count": 24,
      "outputs": [
        {
          "output_type": "stream",
          "name": "stdout",
          "text": [
            "Region           0\n",
            "Literacy rate    0\n",
            "dtype: int64\n"
          ]
        }
      ]
    },
    {
      "cell_type": "markdown",
      "source": [
        "Identifing unusal Data points\n",
        "Focusing on the Literacy rate since it is the only numeric value that must be within a strict range (0 to 1)."
      ],
      "metadata": {
        "id": "MaRlIu9adKti"
      }
    },
    {
      "cell_type": "code",
      "source": [
        "# Look for rows where Literacy rate is -1 (our placeholder for missing).\n",
        "print(\"Rows with missing Literacy rate (flagged as -1):\")\n",
        "print(df[df[\"Literacy rate\"] < 0])\n",
        "\n",
        "# Look for any Literacy rates still above 1 (shouldn't happen, but good to double-check).\n",
        "print(\"Rows with Literacy rate > 1 (should be none):\")\n",
        "print(df[df[\"Literacy rate\"] > 1])\n",
        "\n",
        "# Look at the cleaned data sample.\n",
        "df.head()\n"
      ],
      "metadata": {
        "colab": {
          "base_uri": "https://localhost:8080/",
          "height": 345
        },
        "id": "EnHOO9TQdR8b",
        "outputId": "3b9b1e51-c5ed-4198-d5d7-2fdc20c94616"
      },
      "execution_count": 29,
      "outputs": [
        {
          "output_type": "stream",
          "name": "stdout",
          "text": [
            "Rows with missing Literacy rate (flagged as -1):\n",
            "Empty DataFrame\n",
            "Columns: [Region, Country, Year, Age, Gender, Literacy rate]\n",
            "Index: []\n",
            "Rows with Literacy rate > 1 (should be none):\n",
            "Empty DataFrame\n",
            "Columns: [Region, Country, Year, Age, Gender, Literacy rate]\n",
            "Index: []\n"
          ]
        },
        {
          "output_type": "execute_result",
          "data": {
            "text/plain": [
              "                      Region      Country  Year    Age  Gender  Literacy rate\n",
              "0  Central and Southern Asia  Afghanistan  2011    <15  female       0.176121\n",
              "1  Central and Southern Asia  Afghanistan  2011    <15    male       0.454171\n",
              "2  Central and Southern Asia  Afghanistan  2011  15-24  female       0.321132\n",
              "3  Central and Southern Asia  Afghanistan  2011  15-24    male       0.618791\n",
              "4  Central and Southern Asia  Afghanistan  2011  25-64  female       0.084128"
            ],
            "text/html": [
              "\n",
              "  <div id=\"df-06c5dfc6-7ff7-40c0-9edd-b7fe22bb8c81\" class=\"colab-df-container\">\n",
              "    <div>\n",
              "<style scoped>\n",
              "    .dataframe tbody tr th:only-of-type {\n",
              "        vertical-align: middle;\n",
              "    }\n",
              "\n",
              "    .dataframe tbody tr th {\n",
              "        vertical-align: top;\n",
              "    }\n",
              "\n",
              "    .dataframe thead th {\n",
              "        text-align: right;\n",
              "    }\n",
              "</style>\n",
              "<table border=\"1\" class=\"dataframe\">\n",
              "  <thead>\n",
              "    <tr style=\"text-align: right;\">\n",
              "      <th></th>\n",
              "      <th>Region</th>\n",
              "      <th>Country</th>\n",
              "      <th>Year</th>\n",
              "      <th>Age</th>\n",
              "      <th>Gender</th>\n",
              "      <th>Literacy rate</th>\n",
              "    </tr>\n",
              "  </thead>\n",
              "  <tbody>\n",
              "    <tr>\n",
              "      <th>0</th>\n",
              "      <td>Central and Southern Asia</td>\n",
              "      <td>Afghanistan</td>\n",
              "      <td>2011</td>\n",
              "      <td>&lt;15</td>\n",
              "      <td>female</td>\n",
              "      <td>0.176121</td>\n",
              "    </tr>\n",
              "    <tr>\n",
              "      <th>1</th>\n",
              "      <td>Central and Southern Asia</td>\n",
              "      <td>Afghanistan</td>\n",
              "      <td>2011</td>\n",
              "      <td>&lt;15</td>\n",
              "      <td>male</td>\n",
              "      <td>0.454171</td>\n",
              "    </tr>\n",
              "    <tr>\n",
              "      <th>2</th>\n",
              "      <td>Central and Southern Asia</td>\n",
              "      <td>Afghanistan</td>\n",
              "      <td>2011</td>\n",
              "      <td>15-24</td>\n",
              "      <td>female</td>\n",
              "      <td>0.321132</td>\n",
              "    </tr>\n",
              "    <tr>\n",
              "      <th>3</th>\n",
              "      <td>Central and Southern Asia</td>\n",
              "      <td>Afghanistan</td>\n",
              "      <td>2011</td>\n",
              "      <td>15-24</td>\n",
              "      <td>male</td>\n",
              "      <td>0.618791</td>\n",
              "    </tr>\n",
              "    <tr>\n",
              "      <th>4</th>\n",
              "      <td>Central and Southern Asia</td>\n",
              "      <td>Afghanistan</td>\n",
              "      <td>2011</td>\n",
              "      <td>25-64</td>\n",
              "      <td>female</td>\n",
              "      <td>0.084128</td>\n",
              "    </tr>\n",
              "  </tbody>\n",
              "</table>\n",
              "</div>\n",
              "    <div class=\"colab-df-buttons\">\n",
              "\n",
              "  <div class=\"colab-df-container\">\n",
              "    <button class=\"colab-df-convert\" onclick=\"convertToInteractive('df-06c5dfc6-7ff7-40c0-9edd-b7fe22bb8c81')\"\n",
              "            title=\"Convert this dataframe to an interactive table.\"\n",
              "            style=\"display:none;\">\n",
              "\n",
              "  <svg xmlns=\"http://www.w3.org/2000/svg\" height=\"24px\" viewBox=\"0 -960 960 960\">\n",
              "    <path d=\"M120-120v-720h720v720H120Zm60-500h600v-160H180v160Zm220 220h160v-160H400v160Zm0 220h160v-160H400v160ZM180-400h160v-160H180v160Zm440 0h160v-160H620v160ZM180-180h160v-160H180v160Zm440 0h160v-160H620v160Z\"/>\n",
              "  </svg>\n",
              "    </button>\n",
              "\n",
              "  <style>\n",
              "    .colab-df-container {\n",
              "      display:flex;\n",
              "      gap: 12px;\n",
              "    }\n",
              "\n",
              "    .colab-df-convert {\n",
              "      background-color: #E8F0FE;\n",
              "      border: none;\n",
              "      border-radius: 50%;\n",
              "      cursor: pointer;\n",
              "      display: none;\n",
              "      fill: #1967D2;\n",
              "      height: 32px;\n",
              "      padding: 0 0 0 0;\n",
              "      width: 32px;\n",
              "    }\n",
              "\n",
              "    .colab-df-convert:hover {\n",
              "      background-color: #E2EBFA;\n",
              "      box-shadow: 0px 1px 2px rgba(60, 64, 67, 0.3), 0px 1px 3px 1px rgba(60, 64, 67, 0.15);\n",
              "      fill: #174EA6;\n",
              "    }\n",
              "\n",
              "    .colab-df-buttons div {\n",
              "      margin-bottom: 4px;\n",
              "    }\n",
              "\n",
              "    [theme=dark] .colab-df-convert {\n",
              "      background-color: #3B4455;\n",
              "      fill: #D2E3FC;\n",
              "    }\n",
              "\n",
              "    [theme=dark] .colab-df-convert:hover {\n",
              "      background-color: #434B5C;\n",
              "      box-shadow: 0px 1px 3px 1px rgba(0, 0, 0, 0.15);\n",
              "      filter: drop-shadow(0px 1px 2px rgba(0, 0, 0, 0.3));\n",
              "      fill: #FFFFFF;\n",
              "    }\n",
              "  </style>\n",
              "\n",
              "    <script>\n",
              "      const buttonEl =\n",
              "        document.querySelector('#df-06c5dfc6-7ff7-40c0-9edd-b7fe22bb8c81 button.colab-df-convert');\n",
              "      buttonEl.style.display =\n",
              "        google.colab.kernel.accessAllowed ? 'block' : 'none';\n",
              "\n",
              "      async function convertToInteractive(key) {\n",
              "        const element = document.querySelector('#df-06c5dfc6-7ff7-40c0-9edd-b7fe22bb8c81');\n",
              "        const dataTable =\n",
              "          await google.colab.kernel.invokeFunction('convertToInteractive',\n",
              "                                                    [key], {});\n",
              "        if (!dataTable) return;\n",
              "\n",
              "        const docLinkHtml = 'Like what you see? Visit the ' +\n",
              "          '<a target=\"_blank\" href=https://colab.research.google.com/notebooks/data_table.ipynb>data table notebook</a>'\n",
              "          + ' to learn more about interactive tables.';\n",
              "        element.innerHTML = '';\n",
              "        dataTable['output_type'] = 'display_data';\n",
              "        await google.colab.output.renderOutput(dataTable, element);\n",
              "        const docLink = document.createElement('div');\n",
              "        docLink.innerHTML = docLinkHtml;\n",
              "        element.appendChild(docLink);\n",
              "      }\n",
              "    </script>\n",
              "  </div>\n",
              "\n",
              "\n",
              "    <div id=\"df-654e5cc0-005d-4119-86cc-c81031a99ddc\">\n",
              "      <button class=\"colab-df-quickchart\" onclick=\"quickchart('df-654e5cc0-005d-4119-86cc-c81031a99ddc')\"\n",
              "                title=\"Suggest charts\"\n",
              "                style=\"display:none;\">\n",
              "\n",
              "<svg xmlns=\"http://www.w3.org/2000/svg\" height=\"24px\"viewBox=\"0 0 24 24\"\n",
              "     width=\"24px\">\n",
              "    <g>\n",
              "        <path d=\"M19 3H5c-1.1 0-2 .9-2 2v14c0 1.1.9 2 2 2h14c1.1 0 2-.9 2-2V5c0-1.1-.9-2-2-2zM9 17H7v-7h2v7zm4 0h-2V7h2v10zm4 0h-2v-4h2v4z\"/>\n",
              "    </g>\n",
              "</svg>\n",
              "      </button>\n",
              "\n",
              "<style>\n",
              "  .colab-df-quickchart {\n",
              "      --bg-color: #E8F0FE;\n",
              "      --fill-color: #1967D2;\n",
              "      --hover-bg-color: #E2EBFA;\n",
              "      --hover-fill-color: #174EA6;\n",
              "      --disabled-fill-color: #AAA;\n",
              "      --disabled-bg-color: #DDD;\n",
              "  }\n",
              "\n",
              "  [theme=dark] .colab-df-quickchart {\n",
              "      --bg-color: #3B4455;\n",
              "      --fill-color: #D2E3FC;\n",
              "      --hover-bg-color: #434B5C;\n",
              "      --hover-fill-color: #FFFFFF;\n",
              "      --disabled-bg-color: #3B4455;\n",
              "      --disabled-fill-color: #666;\n",
              "  }\n",
              "\n",
              "  .colab-df-quickchart {\n",
              "    background-color: var(--bg-color);\n",
              "    border: none;\n",
              "    border-radius: 50%;\n",
              "    cursor: pointer;\n",
              "    display: none;\n",
              "    fill: var(--fill-color);\n",
              "    height: 32px;\n",
              "    padding: 0;\n",
              "    width: 32px;\n",
              "  }\n",
              "\n",
              "  .colab-df-quickchart:hover {\n",
              "    background-color: var(--hover-bg-color);\n",
              "    box-shadow: 0 1px 2px rgba(60, 64, 67, 0.3), 0 1px 3px 1px rgba(60, 64, 67, 0.15);\n",
              "    fill: var(--button-hover-fill-color);\n",
              "  }\n",
              "\n",
              "  .colab-df-quickchart-complete:disabled,\n",
              "  .colab-df-quickchart-complete:disabled:hover {\n",
              "    background-color: var(--disabled-bg-color);\n",
              "    fill: var(--disabled-fill-color);\n",
              "    box-shadow: none;\n",
              "  }\n",
              "\n",
              "  .colab-df-spinner {\n",
              "    border: 2px solid var(--fill-color);\n",
              "    border-color: transparent;\n",
              "    border-bottom-color: var(--fill-color);\n",
              "    animation:\n",
              "      spin 1s steps(1) infinite;\n",
              "  }\n",
              "\n",
              "  @keyframes spin {\n",
              "    0% {\n",
              "      border-color: transparent;\n",
              "      border-bottom-color: var(--fill-color);\n",
              "      border-left-color: var(--fill-color);\n",
              "    }\n",
              "    20% {\n",
              "      border-color: transparent;\n",
              "      border-left-color: var(--fill-color);\n",
              "      border-top-color: var(--fill-color);\n",
              "    }\n",
              "    30% {\n",
              "      border-color: transparent;\n",
              "      border-left-color: var(--fill-color);\n",
              "      border-top-color: var(--fill-color);\n",
              "      border-right-color: var(--fill-color);\n",
              "    }\n",
              "    40% {\n",
              "      border-color: transparent;\n",
              "      border-right-color: var(--fill-color);\n",
              "      border-top-color: var(--fill-color);\n",
              "    }\n",
              "    60% {\n",
              "      border-color: transparent;\n",
              "      border-right-color: var(--fill-color);\n",
              "    }\n",
              "    80% {\n",
              "      border-color: transparent;\n",
              "      border-right-color: var(--fill-color);\n",
              "      border-bottom-color: var(--fill-color);\n",
              "    }\n",
              "    90% {\n",
              "      border-color: transparent;\n",
              "      border-bottom-color: var(--fill-color);\n",
              "    }\n",
              "  }\n",
              "</style>\n",
              "\n",
              "      <script>\n",
              "        async function quickchart(key) {\n",
              "          const quickchartButtonEl =\n",
              "            document.querySelector('#' + key + ' button');\n",
              "          quickchartButtonEl.disabled = true;  // To prevent multiple clicks.\n",
              "          quickchartButtonEl.classList.add('colab-df-spinner');\n",
              "          try {\n",
              "            const charts = await google.colab.kernel.invokeFunction(\n",
              "                'suggestCharts', [key], {});\n",
              "          } catch (error) {\n",
              "            console.error('Error during call to suggestCharts:', error);\n",
              "          }\n",
              "          quickchartButtonEl.classList.remove('colab-df-spinner');\n",
              "          quickchartButtonEl.classList.add('colab-df-quickchart-complete');\n",
              "        }\n",
              "        (() => {\n",
              "          let quickchartButtonEl =\n",
              "            document.querySelector('#df-654e5cc0-005d-4119-86cc-c81031a99ddc button');\n",
              "          quickchartButtonEl.style.display =\n",
              "            google.colab.kernel.accessAllowed ? 'block' : 'none';\n",
              "        })();\n",
              "      </script>\n",
              "    </div>\n",
              "\n",
              "    </div>\n",
              "  </div>\n"
            ],
            "application/vnd.google.colaboratory.intrinsic+json": {
              "type": "dataframe",
              "variable_name": "df",
              "summary": "{\n  \"name\": \"df\",\n  \"rows\": 3303,\n  \"fields\": [\n    {\n      \"column\": \"Region\",\n      \"properties\": {\n        \"dtype\": \"category\",\n        \"num_unique_values\": 7,\n        \"samples\": [\n          \"Central and Southern Asia\",\n          \"Europe and Northern America\",\n          \"Eastern and South-Eastern Asia\"\n        ],\n        \"semantic_type\": \"\",\n        \"description\": \"\"\n      }\n    },\n    {\n      \"column\": \"Country\",\n      \"properties\": {\n        \"dtype\": \"category\",\n        \"num_unique_values\": 155,\n        \"samples\": [\n          \"Malawi\",\n          \"Tunisia\",\n          \"Colombia\"\n        ],\n        \"semantic_type\": \"\",\n        \"description\": \"\"\n      }\n    },\n    {\n      \"column\": \"Year\",\n      \"properties\": {\n        \"dtype\": \"Int64\",\n        \"num_unique_values\": 10,\n        \"samples\": [\n          2017,\n          2018,\n          2010\n        ],\n        \"semantic_type\": \"\",\n        \"description\": \"\"\n      }\n    },\n    {\n      \"column\": \"Age\",\n      \"properties\": {\n        \"dtype\": \"category\",\n        \"num_unique_values\": 4,\n        \"samples\": [\n          \"15-24\",\n          \"65+\",\n          \"<15\"\n        ],\n        \"semantic_type\": \"\",\n        \"description\": \"\"\n      }\n    },\n    {\n      \"column\": \"Gender\",\n      \"properties\": {\n        \"dtype\": \"category\",\n        \"num_unique_values\": 2,\n        \"samples\": [\n          \"male\",\n          \"female\"\n        ],\n        \"semantic_type\": \"\",\n        \"description\": \"\"\n      }\n    },\n    {\n      \"column\": \"Literacy rate\",\n      \"properties\": {\n        \"dtype\": \"number\",\n        \"std\": 0.234960472561068,\n        \"min\": 0.004025,\n        \"max\": 1.0,\n        \"num_unique_values\": 3236,\n        \"samples\": [\n          0.7596216,\n          0.9956568\n        ],\n        \"semantic_type\": \"\",\n        \"description\": \"\"\n      }\n    }\n  ]\n}"
            }
          },
          "metadata": {},
          "execution_count": 29
        }
      ]
    },
    {
      "cell_type": "markdown",
      "source": [
        "Save the cleaned data"
      ],
      "metadata": {
        "id": "xx8N36xEfykR"
      }
    },
    {
      "cell_type": "code",
      "source": [
        "# Save the cleaned dataset as a new CSV file for later use or sharing.\n",
        "df.to_csv(\"cleaned_literacy_data.csv\", index=False)\n"
      ],
      "metadata": {
        "id": "bk6kFeVUfwV0"
      },
      "execution_count": 33,
      "outputs": []
    },
    {
      "cell_type": "markdown",
      "source": [
        "# Data Exploration"
      ],
      "metadata": {
        "id": "ThphJvItfFja"
      }
    },
    {
      "cell_type": "markdown",
      "source": [
        "##  UNIVARIATE EXPLORATION"
      ],
      "metadata": {
        "id": "Tgt_MFkygUHM"
      }
    },
    {
      "cell_type": "markdown",
      "source": [
        "**Literacy Rate Distribution**"
      ],
      "metadata": {
        "id": "aeGV_A2KgdmB"
      }
    },
    {
      "cell_type": "code",
      "source": [
        "# Plotting histogram for Literacy rates.\n",
        "plt.figure(figsize=(8,5))\n",
        "\n",
        "# Using only valid literacy rates\n",
        "sns.histplot(df[df[\"Literacy rate\"] >= 0][\"Literacy rate\"], bins=20, kde=True)\n",
        "plt.title(\"Distribution of Literacy Rates\")\n",
        "plt.xlabel(\"Literacy Rate\")\n",
        "plt.ylabel(\"Frequency\")\n",
        "plt.show()"
      ],
      "metadata": {
        "colab": {
          "base_uri": "https://localhost:8080/",
          "height": 487
        },
        "id": "-f9Fl-g1fKJi",
        "outputId": "f6f76d54-96af-4d3f-abe7-5281540013fb"
      },
      "execution_count": 30,
      "outputs": [
        {
          "output_type": "display_data",
          "data": {
            "text/plain": [
              "<Figure size 800x500 with 1 Axes>"
            ],
            "image/png": "[encoded data removed]"
          },
          "metadata": {}
        }
      ]
    },
    {
      "cell_type": "markdown",
      "source": [
        "This shows how literacy rates spread across the data.\n",
        "Most literacy rates are high, ranging between 0.7 to 1.0 (70–100%), peakign at 1.0. This means that high literacy rates are much more common in this data set.\n",
        "The graph shows a tail on the left, meaning some countries and regions still have low literacy. This is where the non-profit should focus.\n",
        "\n"
      ],
      "metadata": {
        "id": "ECYi4-WFhfbU"
      }
    },
    {
      "cell_type": "markdown",
      "source": [
        "**Age Group Counts**\n"
      ],
      "metadata": {
        "id": "xh9yM0hwgnIa"
      }
    },
    {
      "cell_type": "code",
      "source": [
        "# Plotting how many records there are for each age group.\n",
        "plt.figure(figsize=(8,5))\n",
        "\n",
        "# Using countplot to show counts per age group.\n",
        "sns.countplot(data=df, x=\"Age\", order=[\"<15\", \"15-24\", \"25-64\", \"65+\"])\n",
        "\n",
        "plt.title(\"Number of Records per Age Group\")\n",
        "plt.xlabel(\"Age Group\")\n",
        "plt.ylabel(\"Count\")\n",
        "plt.show()"
      ],
      "metadata": {
        "colab": {
          "base_uri": "https://localhost:8080/",
          "height": 487
        },
        "id": "1QTH26s2hFe1",
        "outputId": "40e72fa2-5f93-44d4-a323-a21060ae98d4"
      },
      "execution_count": 31,
      "outputs": [
        {
          "output_type": "display_data",
          "data": {
            "text/plain": [
              "<Figure size 800x500 with 1 Axes>"
            ],
            "image/png": "[encoded data removed]"
          },
          "metadata": {}
        }
      ]
    },
    {
      "cell_type": "markdown",
      "source": [
        "This shows which age groups have more data.\n",
        "It also shows which age groups might need more data or attention.\n",
        "According to the bars, the \"25-64\" age group has the highest average literacy rate. The \"65+\" age group has a lower average literacy rate. This means that the older populations tend to have lower literacy rates in this dataset."
      ],
      "metadata": {
        "id": "co1JXq-Ahm7a"
      }
    },
    {
      "cell_type": "markdown",
      "source": [
        "# MULTIVARIATE EXPLORATION"
      ],
      "metadata": {
        "id": "Tvd0afsuhpq6"
      }
    },
    {
      "cell_type": "markdown",
      "source": [
        "**Boxplot: Literacy by Gender**"
      ],
      "metadata": {
        "id": "hsrDd9d4h3Wi"
      }
    },
    {
      "cell_type": "code",
      "source": [
        "# Comparing Literacy rate distribution between males and females.\n",
        "plt.figure(figsize=(8,5))\n",
        "\n",
        "# Using boxplot to see median and spread.\n",
        "sns.boxplot(data=df[df[\"Literacy rate\"] >= 0], x=\"Gender\", y=\"Literacy rate\")\n",
        "\n",
        "plt.title(\"Literacy Rate by Gender\")\n",
        "plt.show()"
      ],
      "metadata": {
        "colab": {
          "base_uri": "https://localhost:8080/",
          "height": 487
        },
        "id": "nYb6G-3Ah9aR",
        "outputId": "8fec90db-8b82-43d7-9fde-d0941ff720eb"
      },
      "execution_count": 27,
      "outputs": [
        {
          "output_type": "display_data",
          "data": {
            "text/plain": [
              "<Figure size 800x500 with 1 Axes>"
            ],
            "image/png": "[encoded data removed]"
          },
          "metadata": {}
        }
      ]
    },
    {
      "cell_type": "markdown",
      "source": [
        "\n",
        "This compares the literacy levels of the females versus the males and so shows if there's a gender gap.\n",
        "On average, females have a slightly lower literacy rate compared to males. The difference appears small but consistent.\n",
        "The nonprofit might target programs for the female group but maintain the programs for the male group since the gap is not so big.\n"
      ],
      "metadata": {
        "id": "FA2n3E0HiN6h"
      }
    },
    {
      "cell_type": "markdown",
      "source": [
        "**Lineplot: Literacy over Time by Gender**"
      ],
      "metadata": {
        "id": "G5DnBYOYiTeZ"
      }
    },
    {
      "cell_type": "code",
      "source": [
        "# Seeing trends over time for each gender.\n",
        "plt.figure(figsize=(12,6))\n",
        "\n",
        "# Using lineplot to show how Literacy rate changes by Year and Gender.\n",
        "sns.lineplot(data=df[df[\"Literacy rate\"] >= 0], x=\"Year\", y=\"Literacy rate\", hue=\"Gender\")\n",
        "\n",
        "plt.title(\"Literacy Rate Trend Over Time by Gender\")\n",
        "plt.show()"
      ],
      "metadata": {
        "colab": {
          "base_uri": "https://localhost:8080/",
          "height": 564
        },
        "id": "ZXIYdD2ciZYK",
        "outputId": "9e927816-21c1-4e15-f434-be1ef8abd881"
      },
      "execution_count": 28,
      "outputs": [
        {
          "output_type": "display_data",
          "data": {
            "text/plain": [
              "<Figure size 1200x600 with 1 Axes>"
            ],
            "image/png": "[encoded data removed]"
          },
          "metadata": {}
        }
      ]
    },
    {
      "cell_type": "markdown",
      "source": [
        "This shows if literacy is improving over time and if gender gaps are closing or staying the same as wella s the projected trend.\n",
        "Around 2000, there seems to have been a significant gap with the female literacy rates being significantly lower than their male counterparts.\n",
        "\n",
        "Over time, the male literacy rate shows a steady and gradual increase.\n",
        "The female literacy rate shows a more dramatic increase around 2000, but remains below the male literacy rate thorughout the observed period.\n",
        "\n",
        "The graph shows a positive outlook for both genders but also a consistent gap where the female rates are consistently lower than the male rates."
      ],
      "metadata": {
        "id": "l0VrVQf2idnp"
      }
    },
    {
      "cell_type": "markdown",
      "source": [
        "# Conclusion\n",
        "Based on this data analysis, most countries in the dataset have high literacy rates, crowded towards 100%.\n",
        "\n",
        "However, literacy rates vary noticeably by region, with Europe and Northern America showing the highest rates, while Sub-Saharan Africa and Central and Southern Asia generally have lower average literacy rates. There is also a significant gender gap in literacy rates.\n",
        "\n",
        "Although the overall youth literacy is generally high, in many regions especially parts of Sub-Saharan Africa and Central/Southern Asia, there still exist low literacy rates and significant gender gaps disadvantaging the girls. The non-profit should focus its next efforts and projects on these low-literacy regions and design programs that target young girls while leveraging community engagement to enable them complete their education.\n"
      ],
      "metadata": {
        "id": "r0MLPeCzqrPb"
      }
    }
  ]
}